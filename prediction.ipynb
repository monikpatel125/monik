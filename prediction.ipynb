{
 "cells": [
  {
   "cell_type": "code",
   "execution_count": null,
   "metadata": {},
   "outputs": [],
   "source": [
    "import numpy as np\n",
    "class learning:\n",
    "    def __init__(self,lr,inp,itr):\n",
    "        \n",
    "        self.lr=lr\n",
    "       \n",
    "        self.itr=itr\n",
    "        \n",
    "        weight=np.random.randn(len(inp))\n",
    "        \n",
    "    def predict(self,inp):\n",
    "        z=np.dot(self,weight,inp)\n",
    "        \n",
    "        if z>0:\n",
    "            activation=1\n",
    "        else:\n",
    "            activation=-1\n",
    "            \n",
    "        return activation\n",
    "    def training(self,labels,training_inp):\n",
    "        for i in range(self,itr):\n",
    "            \n",
    "            for inp,labels in zip(training_inp,labels):\n",
    "                \n",
    "                delta_weight=self.lr*(labels-self.predict(inp))*inp\n",
    "                update_weight=self.weight+delta_weight"
   ]
  }
 ],
 "metadata": {
  "kernelspec": {
   "display_name": "Python 3",
   "language": "python",
   "name": "python3"
  },
  "language_info": {
   "codemirror_mode": {
    "name": "ipython",
    "version": 3
   },
   "file_extension": ".py",
   "mimetype": "text/x-python",
   "name": "python",
   "nbconvert_exporter": "python",
   "pygments_lexer": "ipython3",
   "version": "3.7.3"
  }
 },
 "nbformat": 4,
 "nbformat_minor": 2
}
